{
 "cells": [
  {
   "cell_type": "markdown",
   "metadata": {},
   "source": [
    "### Import libraries"
   ]
  },
  {
   "cell_type": "code",
   "execution_count": 338,
   "metadata": {},
   "outputs": [],
   "source": [
    "from fpdf import FPDF\n",
    "import pandas as pd\n",
    "import matplotlib.pyplot as plt\n",
    "import seaborn as sns"
   ]
  },
  {
   "cell_type": "markdown",
   "metadata": {},
   "source": [
    "### PDF Class"
   ]
  },
  {
   "cell_type": "code",
   "execution_count": 339,
   "metadata": {},
   "outputs": [],
   "source": [
    "class PDF(FPDF):\n",
    "    def add_text(\n",
    "        self, title, x, y, w=210, h=297, font=\"Arial\", fontsize=16, align=\"C\", color=(0, 0, 0), border=0,style=\"\"\n",
    "    ):\n",
    "        self.set_xy(x, y)\n",
    "        if style:\n",
    "            self.set_font(font, style, fontsize)\n",
    "        else:\n",
    "            self.set_font(font, \"\", fontsize)\n",
    "        self.set_text_color(*color)\n",
    "        self.cell(w=w, h=h, align=align, txt=title, border=border)\n",
    "\n",
    "    def add_image(self, path, x, y, w=None, h=None):\n",
    "        if w is None and h is None:\n",
    "            self.image(path, x, y)\n",
    "        elif w is None:\n",
    "            self.image(path, x, y, h=h)\n",
    "        elif h is None:\n",
    "            self.image(path, x, y, w=w)\n",
    "        else:\n",
    "            self.image(path, x, y, w=w, h=h)"
   ]
  },
  {
   "cell_type": "markdown",
   "metadata": {},
   "source": [
    "## Front Page"
   ]
  },
  {
   "cell_type": "code",
   "execution_count": 340,
   "metadata": {},
   "outputs": [],
   "source": [
    "A4x = 210\n",
    "A4y = 297-21\n",
    "margin = 20\n",
    "\n",
    "pdf = PDF()\n",
    "pdf.add_page()\n",
    "pdf.add_text(\"Pizzas Maven\", 0, margin, h=20, fontsize=32,style=\"B\")\n",
    "pdf.add_text(\"Reporte Ejecutivo 2016\", 0, margin+20, h=20, fontsize=24,style=\"B\")\n",
    "pdf.add_image(\"images/maven.jpg\", margin, margin+40+2*margin, w=A4x - 2 * margin)\n",
    "pdf.add_text(\"By Sergio Herreros\",0,A4y-20,w=A4x-margin,h=20,align=\"R\", fontsize=12,style=\"I\")"
   ]
  },
  {
   "cell_type": "markdown",
   "metadata": {},
   "source": [
    "### Load Data"
   ]
  },
  {
   "cell_type": "code",
   "execution_count": 341,
   "metadata": {},
   "outputs": [
    {
     "data": {
      "text/html": [
       "<div>\n",
       "<style scoped>\n",
       "    .dataframe tbody tr th:only-of-type {\n",
       "        vertical-align: middle;\n",
       "    }\n",
       "\n",
       "    .dataframe tbody tr th {\n",
       "        vertical-align: top;\n",
       "    }\n",
       "\n",
       "    .dataframe thead th {\n",
       "        text-align: right;\n",
       "    }\n",
       "</style>\n",
       "<table border=\"1\" class=\"dataframe\">\n",
       "  <thead>\n",
       "    <tr style=\"text-align: right;\">\n",
       "      <th></th>\n",
       "      <th>order_id</th>\n",
       "      <th>date</th>\n",
       "    </tr>\n",
       "  </thead>\n",
       "  <tbody>\n",
       "    <tr>\n",
       "      <th>0</th>\n",
       "      <td>1</td>\n",
       "      <td>2016-01-01</td>\n",
       "    </tr>\n",
       "    <tr>\n",
       "      <th>1</th>\n",
       "      <td>2</td>\n",
       "      <td>2016-01-01</td>\n",
       "    </tr>\n",
       "    <tr>\n",
       "      <th>2</th>\n",
       "      <td>4</td>\n",
       "      <td>2016-01-01</td>\n",
       "    </tr>\n",
       "    <tr>\n",
       "      <th>3</th>\n",
       "      <td>5</td>\n",
       "      <td>2016-01-01</td>\n",
       "    </tr>\n",
       "    <tr>\n",
       "      <th>4</th>\n",
       "      <td>6</td>\n",
       "      <td>2016-01-01</td>\n",
       "    </tr>\n",
       "  </tbody>\n",
       "</table>\n",
       "</div>"
      ],
      "text/plain": [
       "   order_id       date\n",
       "0         1 2016-01-01\n",
       "1         2 2016-01-01\n",
       "2         4 2016-01-01\n",
       "3         5 2016-01-01\n",
       "4         6 2016-01-01"
      ]
     },
     "execution_count": 341,
     "metadata": {},
     "output_type": "execute_result"
    }
   ],
   "source": [
    "orders = pd.read_csv(\"data/orders_2016_clean.csv\")\n",
    "orders.sort_values(by=[\"date\",\"order_id\"], inplace=True)\n",
    "orders[\"date\"] = pd.to_datetime(orders[\"date\"])\n",
    "orders.reset_index(drop=True, inplace=True)\n",
    "orders.head()"
   ]
  },
  {
   "cell_type": "code",
   "execution_count": 342,
   "metadata": {},
   "outputs": [
    {
     "data": {
      "text/html": [
       "<div>\n",
       "<style scoped>\n",
       "    .dataframe tbody tr th:only-of-type {\n",
       "        vertical-align: middle;\n",
       "    }\n",
       "\n",
       "    .dataframe tbody tr th {\n",
       "        vertical-align: top;\n",
       "    }\n",
       "\n",
       "    .dataframe thead th {\n",
       "        text-align: right;\n",
       "    }\n",
       "</style>\n",
       "<table border=\"1\" class=\"dataframe\">\n",
       "  <thead>\n",
       "    <tr style=\"text-align: right;\">\n",
       "      <th></th>\n",
       "      <th>order_id</th>\n",
       "      <th>pizza_id</th>\n",
       "      <th>quantity</th>\n",
       "    </tr>\n",
       "  </thead>\n",
       "  <tbody>\n",
       "    <tr>\n",
       "      <th>0</th>\n",
       "      <td>1</td>\n",
       "      <td>hawaiian</td>\n",
       "      <td>1.0</td>\n",
       "    </tr>\n",
       "    <tr>\n",
       "      <th>1</th>\n",
       "      <td>2</td>\n",
       "      <td>five_cheese</td>\n",
       "      <td>1.0</td>\n",
       "    </tr>\n",
       "    <tr>\n",
       "      <th>2</th>\n",
       "      <td>2</td>\n",
       "      <td>thai_ckn</td>\n",
       "      <td>1.0</td>\n",
       "    </tr>\n",
       "    <tr>\n",
       "      <th>3</th>\n",
       "      <td>2</td>\n",
       "      <td>classic_dlx</td>\n",
       "      <td>1.0</td>\n",
       "    </tr>\n",
       "    <tr>\n",
       "      <th>4</th>\n",
       "      <td>2</td>\n",
       "      <td>mexicana</td>\n",
       "      <td>1.0</td>\n",
       "    </tr>\n",
       "  </tbody>\n",
       "</table>\n",
       "</div>"
      ],
      "text/plain": [
       "   order_id     pizza_id  quantity\n",
       "0         1     hawaiian       1.0\n",
       "1         2  five_cheese       1.0\n",
       "2         2     thai_ckn       1.0\n",
       "3         2  classic_dlx       1.0\n",
       "4         2     mexicana       1.0"
      ]
     },
     "execution_count": 342,
     "metadata": {},
     "output_type": "execute_result"
    }
   ],
   "source": [
    "order_details = pd.read_csv(\"data/order_details_2016_clean.csv\")\n",
    "order_details.sort_values(by=[\"order_id\"], inplace=True)\n",
    "order_details.reset_index(drop=True, inplace=True)\n",
    "'''one or two letters from smlx using regex'''\n",
    "order_details[\"pizza_id\"]=order_details[\"pizza_id\"].str.replace(r\"_[smlx]{1,3}$\",\"\",regex=True)\n",
    "order_details.head()"
   ]
  },
  {
   "cell_type": "code",
   "execution_count": 343,
   "metadata": {},
   "outputs": [
    {
     "data": {
      "text/html": [
       "<div>\n",
       "<style scoped>\n",
       "    .dataframe tbody tr th:only-of-type {\n",
       "        vertical-align: middle;\n",
       "    }\n",
       "\n",
       "    .dataframe tbody tr th {\n",
       "        vertical-align: top;\n",
       "    }\n",
       "\n",
       "    .dataframe thead th {\n",
       "        text-align: right;\n",
       "    }\n",
       "</style>\n",
       "<table border=\"1\" class=\"dataframe\">\n",
       "  <thead>\n",
       "    <tr style=\"text-align: right;\">\n",
       "      <th></th>\n",
       "      <th>order_id</th>\n",
       "      <th>date</th>\n",
       "      <th>pizza_id</th>\n",
       "      <th>quantity</th>\n",
       "    </tr>\n",
       "  </thead>\n",
       "  <tbody>\n",
       "    <tr>\n",
       "      <th>0</th>\n",
       "      <td>1</td>\n",
       "      <td>2016-01-01</td>\n",
       "      <td>hawaiian</td>\n",
       "      <td>1.0</td>\n",
       "    </tr>\n",
       "    <tr>\n",
       "      <th>1</th>\n",
       "      <td>2</td>\n",
       "      <td>2016-01-01</td>\n",
       "      <td>five_cheese</td>\n",
       "      <td>1.0</td>\n",
       "    </tr>\n",
       "    <tr>\n",
       "      <th>2</th>\n",
       "      <td>2</td>\n",
       "      <td>2016-01-01</td>\n",
       "      <td>thai_ckn</td>\n",
       "      <td>1.0</td>\n",
       "    </tr>\n",
       "    <tr>\n",
       "      <th>3</th>\n",
       "      <td>2</td>\n",
       "      <td>2016-01-01</td>\n",
       "      <td>classic_dlx</td>\n",
       "      <td>1.0</td>\n",
       "    </tr>\n",
       "    <tr>\n",
       "      <th>4</th>\n",
       "      <td>2</td>\n",
       "      <td>2016-01-01</td>\n",
       "      <td>mexicana</td>\n",
       "      <td>1.0</td>\n",
       "    </tr>\n",
       "  </tbody>\n",
       "</table>\n",
       "</div>"
      ],
      "text/plain": [
       "   order_id       date     pizza_id  quantity\n",
       "0         1 2016-01-01     hawaiian       1.0\n",
       "1         2 2016-01-01  five_cheese       1.0\n",
       "2         2 2016-01-01     thai_ckn       1.0\n",
       "3         2 2016-01-01  classic_dlx       1.0\n",
       "4         2 2016-01-01     mexicana       1.0"
      ]
     },
     "execution_count": 343,
     "metadata": {},
     "output_type": "execute_result"
    }
   ],
   "source": [
    "orders = orders.merge(order_details, on=\"order_id\")\n",
    "orders.head()"
   ]
  },
  {
   "cell_type": "markdown",
   "metadata": {},
   "source": [
    "### PLOTS"
   ]
  },
  {
   "cell_type": "code",
   "execution_count": 344,
   "metadata": {},
   "outputs": [
    {
     "data": {
      "image/png": "[encoded data removed]",
      "text/plain": [
       "<Figure size 1000x500 with 1 Axes>"
      ]
     },
     "metadata": {},
     "output_type": "display_data"
    }
   ],
   "source": [
    "'''plot of number of pizzas sold per month'''\n",
    "orders[\"month\"] = orders[\"date\"].dt.month\n",
    "'''using seaborn with colors'''\n",
    "pizzas_mes=orders.groupby(\"month\")[\"quantity\"].sum()\n",
    "plt.figure(figsize=(10,5))\n",
    "sns.barplot(x=pizzas_mes.index, y=pizzas_mes.values, palette=\"Blues_d\")\n",
    "plt.title(\"Pizzas sold per month\")\n",
    "plt.xlabel(\"Month\")\n",
    "plt.savefig(\"images/pizzas_mes.png\", dpi=300, bbox_inches=\"tight\")"
   ]
  },
  {
   "cell_type": "code",
   "execution_count": 345,
   "metadata": {},
   "outputs": [
    {
     "data": {
      "image/png": "[encoded data removed]",
      "text/plain": [
       "<Figure size 1000x500 with 1 Axes>"
      ]
     },
     "metadata": {},
     "output_type": "display_data"
    }
   ],
   "source": [
    "'''5 more sold pizzas'''\n",
    "pizzas=orders.groupby(\"pizza_id\")[\"quantity\"].sum()\n",
    "pizzas.sort_values(ascending=False, inplace=True)\n",
    "pizzas=pizzas[:5]\n",
    "plt.figure(figsize=(10,5))\n",
    "sns.barplot(x=pizzas.index, y=pizzas.values)\n",
    "plt.title(\"5 most sold pizzas\")\n",
    "plt.xlabel(\"\");\n",
    "plt.savefig(\"images/pizzas.png\", dpi=300, bbox_inches=\"tight\")"
   ]
  },
  {
   "cell_type": "code",
   "execution_count": 346,
   "metadata": {},
   "outputs": [
    {
     "data": {
      "image/png": "[encoded data removed]",
      "text/plain": [
       "<Figure size 1000x500 with 1 Axes>"
      ]
     },
     "metadata": {},
     "output_type": "display_data"
    }
   ],
   "source": [
    "'''5 less sold pizzas'''\n",
    "pizzas=orders.groupby(\"pizza_id\")[\"quantity\"].sum()\n",
    "pizzas.sort_values(ascending=True, inplace=True)\n",
    "pizzas=pizzas[:5]\n",
    "plt.figure(figsize=(10,5))\n",
    "sns.barplot(x=pizzas.index, y=pizzas.values)\n",
    "plt.title(\"5 least sold pizzas\")\n",
    "plt.xlabel(\"\");\n",
    "plt.savefig(\"images/pizzas2.png\", dpi=300, bbox_inches=\"tight\")"
   ]
  },
  {
   "cell_type": "code",
   "execution_count": 347,
   "metadata": {},
   "outputs": [],
   "source": [
    "pdf.add_page()\n",
    "pdf.add_text(\"General Report\", 0, margin, h=20, fontsize=18)\n",
    "pdf.add_image(\"images/pizzas_mes.png\", margin, margin+40+2*margin, w=A4x - 2 * margin)\n",
    "pdf.add_page()\n",
    "pdf.add_text(\"General Report\", 0, margin, h=20, fontsize=16)\n",
    "pdf.add_image(\"images/pizzas.png\", margin, margin+40+2*margin, w=A4x - 2 * margin)\n",
    "pdf.add_page()\n",
    "pdf.add_text(\"General Report\", 0, margin, h=20, fontsize=16)\n",
    "pdf.add_image(\"images/pizzas2.png\", margin, margin+40+2*margin, w=A4x - 2 * margin)"
   ]
  },
  {
   "cell_type": "markdown",
   "metadata": {},
   "source": [
    "### Predictions"
   ]
  },
  {
   "cell_type": "code",
   "execution_count": 348,
   "metadata": {},
   "outputs": [],
   "source": [
    "pdf.add_page()\n",
    "pdf.add_text(\"Predictions Report\", 0, margin, h=20, fontsize=18)\n",
    "txt=[\"Here is how the model predicts a given ingredient in may 2016.\",\n",
    "\"To check if our model is aplicable in our daily basis, we'll see how well it predicts \",\n",
    "\"ingredients on days that are not in the training set.\",\n",
    "\"The first 7 days are in the training set, the rest are not.\",\n",
    "\" \",\n",
    "\"The confidence interval is given by the mean absolute error of that ingredient.\"\n",
    "\" \",\n",
    "\"As we can see, the model fits the data of two weeks in the future pretty well, and then it starts to fail but slightly.\",\n",
    "]\n",
    "sep=2\n",
    "for i, t in enumerate(txt):\n",
    "    pdf.add_text(t, margin, 3*margin+i*(pdf.font_size+sep), w=A4x - 2 * margin,h=10, fontsize=10)\n",
    "pdf.add_image(\"images/daily_bbq_ckn.png\", margin, margin+40+2*margin+3*margin, w=A4x - 2 * margin)"
   ]
  },
  {
   "cell_type": "code",
   "execution_count": 349,
   "metadata": {},
   "outputs": [],
   "source": [
    "pdf.add_page()\n",
    "pdf.add_text(\"Predictions Report\", 0, margin, h=20, fontsize=18)\n",
    "txt=[\"Now that we know that our model predicts decently the daily stock of ingredients\",\n",
    "\"so we can use it to predict the stock of ingredients for an entire week.\",\n",
    "\"First, we'll sum up the daily stock of ingredients for each week.\",\n",
    "\"Then, we'll add a margin error so that we can be sure that we have enough ingredients.\",\n",
    "\"This margin error is the mean absolute error for each ingredient, and it is weighted by a hyperparameter alpha.\",\n",
    "\"Finally, lets define a parameter to make the predictions realistic.\",\n",
    "\"Let's say we need to make the order of ingredients for the next week on tuesdays.\",\n",
    "\"Then, we'll be missing data from tuesday to monday, which is equivalent to having an antelation of 4 days.\",\n",
    "\" \",\n",
    "\"Lets see some examples for a couple ingredients\"\n",
    "]\n",
    "sep=1\n",
    "for i, t in enumerate(txt):\n",
    "    pdf.add_text(t, margin, 3*margin+i*(pdf.font_size+sep), w=A4x - 2 * margin,h=10, fontsize=10)\n",
    "pdf.add_image(\"images/weekly_alf.png\", margin, 120, w=A4x - 2 * margin)\n",
    "pdf.add_image(\"images/weekly_pep.png\", margin, 200, w=A4x - 2 * margin)"
   ]
  },
  {
   "cell_type": "code",
   "execution_count": 350,
   "metadata": {},
   "outputs": [],
   "source": [
    "pdf.add_page()\n",
    "pdf.add_text(\"Predictions Report\", 0, margin, h=20, fontsize=18)\n",
    "txt=[\"To conclude, lets see how our model does on average over a year.\",\n",
    "\"For that, we'll predict the stock of ingredients for each week of 2016,\",\n",
    "\"and then we'll compare the mean of ingredients predicted against the mean of ingredients sold.\",\n",
    "\" \",\n",
    "\"As before, we'll have same alpha and antelation parameters.\",\n",
    "]\n",
    "sep=1\n",
    "for i, t in enumerate(txt):\n",
    "    pdf.add_text(t, margin, 3*margin+i*(pdf.font_size+sep), w=A4x - 2 * margin,h=10, fontsize=10)\n",
    "pdf.add_image(\"images/weekly_all.png\", margin, 120, w=A4x - 2 * margin)"
   ]
  },
  {
   "cell_type": "code",
   "execution_count": 352,
   "metadata": {},
   "outputs": [
    {
     "data": {
      "text/plain": [
       "''"
      ]
     },
     "execution_count": 352,
     "metadata": {},
     "output_type": "execute_result"
    }
   ],
   "source": [
    "pdf.output(\"output/report.pdf\", \"F\")"
   ]
  }
 ],
 "metadata": {
  "kernelspec": {
   "display_name": "Python 3.10.6 64-bit",
   "language": "python",
   "name": "python3"
  },
  "language_info": {
   "codemirror_mode": {
    "name": "ipython",
    "version": 3
   },
   "file_extension": ".py",
   "mimetype": "text/x-python",
   "name": "python",
   "nbconvert_exporter": "python",
   "pygments_lexer": "ipython3",
   "version": "3.10.6"
  },
  "orig_nbformat": 4,
  "vscode": {
   "interpreter": {
    "hash": "841fed4330da2c0f186905de144ecf4da6db16f0ca1e7f45a0769cc74be68adf"
   }
  }
 },
 "nbformat": 4,
 "nbformat_minor": 2
}
